{
  "metadata": {
    "language_info": {
      "codemirror_mode": {
        "name": "python",
        "version": 3
      },
      "file_extension": ".py",
      "mimetype": "text/x-python",
      "name": "python",
      "nbconvert_exporter": "python",
      "pygments_lexer": "ipython3",
      "version": "3.8"
    },
    "kernelspec": {
      "name": "python",
      "display_name": "Python (Pyodide)",
      "language": "python"
    }
  },
  "nbformat_minor": 4,
  "nbformat": 4,
  "cells": [
    {
      "cell_type": "code",
      "source": "import pandas as pd\nimport numpy as np\ntable  = pd.read_csv('ds_salaries.csv')",
      "metadata": {
        "trusted": true
      },
      "execution_count": 1,
      "outputs": []
    },
    {
      "cell_type": "code",
      "source": "table",
      "metadata": {
        "trusted": true
      },
      "execution_count": 2,
      "outputs": [
        {
          "execution_count": 2,
          "output_type": "execute_result",
          "data": {
            "text/plain": "     Unnamed: 0  work_year experience_level employment_type  \\\n0             0       2020               MI              FT   \n1             1       2020               SE              FT   \n2             2       2020               SE              FT   \n3             3       2020               MI              FT   \n4             4       2020               SE              FT   \n..          ...        ...              ...             ...   \n602         602       2022               SE              FT   \n603         603       2022               SE              FT   \n604         604       2022               SE              FT   \n605         605       2022               SE              FT   \n606         606       2022               MI              FT   \n\n                      job_title  salary salary_currency  salary_in_usd  \\\n0                Data Scientist   70000             EUR          79833   \n1    Machine Learning Scientist  260000             USD         260000   \n2             Big Data Engineer   85000             GBP         109024   \n3          Product Data Analyst   20000             USD          20000   \n4     Machine Learning Engineer  150000             USD         150000   \n..                          ...     ...             ...            ...   \n602               Data Engineer  154000             USD         154000   \n603               Data Engineer  126000             USD         126000   \n604                Data Analyst  129000             USD         129000   \n605                Data Analyst  150000             USD         150000   \n606                AI Scientist  200000             USD         200000   \n\n    employee_residence  remote_ratio company_location company_size  \n0                   DE             0               DE            L  \n1                   JP             0               JP            S  \n2                   GB            50               GB            M  \n3                   HN             0               HN            S  \n4                   US            50               US            L  \n..                 ...           ...              ...          ...  \n602                 US           100               US            M  \n603                 US           100               US            M  \n604                 US             0               US            M  \n605                 US           100               US            M  \n606                 IN           100               US            L  \n\n[607 rows x 12 columns]",
            "text/html": "<div>\n<style scoped>\n    .dataframe tbody tr th:only-of-type {\n        vertical-align: middle;\n    }\n\n    .dataframe tbody tr th {\n        vertical-align: top;\n    }\n\n    .dataframe thead th {\n        text-align: right;\n    }\n</style>\n<table border=\"1\" class=\"dataframe\">\n  <thead>\n    <tr style=\"text-align: right;\">\n      <th></th>\n      <th>Unnamed: 0</th>\n      <th>work_year</th>\n      <th>experience_level</th>\n      <th>employment_type</th>\n      <th>job_title</th>\n      <th>salary</th>\n      <th>salary_currency</th>\n      <th>salary_in_usd</th>\n      <th>employee_residence</th>\n      <th>remote_ratio</th>\n      <th>company_location</th>\n      <th>company_size</th>\n    </tr>\n  </thead>\n  <tbody>\n    <tr>\n      <th>0</th>\n      <td>0</td>\n      <td>2020</td>\n      <td>MI</td>\n      <td>FT</td>\n      <td>Data Scientist</td>\n      <td>70000</td>\n      <td>EUR</td>\n      <td>79833</td>\n      <td>DE</td>\n      <td>0</td>\n      <td>DE</td>\n      <td>L</td>\n    </tr>\n    <tr>\n      <th>1</th>\n      <td>1</td>\n      <td>2020</td>\n      <td>SE</td>\n      <td>FT</td>\n      <td>Machine Learning Scientist</td>\n      <td>260000</td>\n      <td>USD</td>\n      <td>260000</td>\n      <td>JP</td>\n      <td>0</td>\n      <td>JP</td>\n      <td>S</td>\n    </tr>\n    <tr>\n      <th>2</th>\n      <td>2</td>\n      <td>2020</td>\n      <td>SE</td>\n      <td>FT</td>\n      <td>Big Data Engineer</td>\n      <td>85000</td>\n      <td>GBP</td>\n      <td>109024</td>\n      <td>GB</td>\n      <td>50</td>\n      <td>GB</td>\n      <td>M</td>\n    </tr>\n    <tr>\n      <th>3</th>\n      <td>3</td>\n      <td>2020</td>\n      <td>MI</td>\n      <td>FT</td>\n      <td>Product Data Analyst</td>\n      <td>20000</td>\n      <td>USD</td>\n      <td>20000</td>\n      <td>HN</td>\n      <td>0</td>\n      <td>HN</td>\n      <td>S</td>\n    </tr>\n    <tr>\n      <th>4</th>\n      <td>4</td>\n      <td>2020</td>\n      <td>SE</td>\n      <td>FT</td>\n      <td>Machine Learning Engineer</td>\n      <td>150000</td>\n      <td>USD</td>\n      <td>150000</td>\n      <td>US</td>\n      <td>50</td>\n      <td>US</td>\n      <td>L</td>\n    </tr>\n    <tr>\n      <th>...</th>\n      <td>...</td>\n      <td>...</td>\n      <td>...</td>\n      <td>...</td>\n      <td>...</td>\n      <td>...</td>\n      <td>...</td>\n      <td>...</td>\n      <td>...</td>\n      <td>...</td>\n      <td>...</td>\n      <td>...</td>\n    </tr>\n    <tr>\n      <th>602</th>\n      <td>602</td>\n      <td>2022</td>\n      <td>SE</td>\n      <td>FT</td>\n      <td>Data Engineer</td>\n      <td>154000</td>\n      <td>USD</td>\n      <td>154000</td>\n      <td>US</td>\n      <td>100</td>\n      <td>US</td>\n      <td>M</td>\n    </tr>\n    <tr>\n      <th>603</th>\n      <td>603</td>\n      <td>2022</td>\n      <td>SE</td>\n      <td>FT</td>\n      <td>Data Engineer</td>\n      <td>126000</td>\n      <td>USD</td>\n      <td>126000</td>\n      <td>US</td>\n      <td>100</td>\n      <td>US</td>\n      <td>M</td>\n    </tr>\n    <tr>\n      <th>604</th>\n      <td>604</td>\n      <td>2022</td>\n      <td>SE</td>\n      <td>FT</td>\n      <td>Data Analyst</td>\n      <td>129000</td>\n      <td>USD</td>\n      <td>129000</td>\n      <td>US</td>\n      <td>0</td>\n      <td>US</td>\n      <td>M</td>\n    </tr>\n    <tr>\n      <th>605</th>\n      <td>605</td>\n      <td>2022</td>\n      <td>SE</td>\n      <td>FT</td>\n      <td>Data Analyst</td>\n      <td>150000</td>\n      <td>USD</td>\n      <td>150000</td>\n      <td>US</td>\n      <td>100</td>\n      <td>US</td>\n      <td>M</td>\n    </tr>\n    <tr>\n      <th>606</th>\n      <td>606</td>\n      <td>2022</td>\n      <td>MI</td>\n      <td>FT</td>\n      <td>AI Scientist</td>\n      <td>200000</td>\n      <td>USD</td>\n      <td>200000</td>\n      <td>IN</td>\n      <td>100</td>\n      <td>US</td>\n      <td>L</td>\n    </tr>\n  </tbody>\n</table>\n<p>607 rows × 12 columns</p>\n</div>"
          },
          "metadata": {}
        }
      ]
    },
    {
      "cell_type": "code",
      "source": "table.head()",
      "metadata": {
        "trusted": true
      },
      "execution_count": 3,
      "outputs": [
        {
          "execution_count": 3,
          "output_type": "execute_result",
          "data": {
            "text/plain": "   Unnamed: 0  work_year experience_level employment_type  \\\n0           0       2020               MI              FT   \n1           1       2020               SE              FT   \n2           2       2020               SE              FT   \n3           3       2020               MI              FT   \n4           4       2020               SE              FT   \n\n                    job_title  salary salary_currency  salary_in_usd  \\\n0              Data Scientist   70000             EUR          79833   \n1  Machine Learning Scientist  260000             USD         260000   \n2           Big Data Engineer   85000             GBP         109024   \n3        Product Data Analyst   20000             USD          20000   \n4   Machine Learning Engineer  150000             USD         150000   \n\n  employee_residence  remote_ratio company_location company_size  \n0                 DE             0               DE            L  \n1                 JP             0               JP            S  \n2                 GB            50               GB            M  \n3                 HN             0               HN            S  \n4                 US            50               US            L  ",
            "text/html": "<div>\n<style scoped>\n    .dataframe tbody tr th:only-of-type {\n        vertical-align: middle;\n    }\n\n    .dataframe tbody tr th {\n        vertical-align: top;\n    }\n\n    .dataframe thead th {\n        text-align: right;\n    }\n</style>\n<table border=\"1\" class=\"dataframe\">\n  <thead>\n    <tr style=\"text-align: right;\">\n      <th></th>\n      <th>Unnamed: 0</th>\n      <th>work_year</th>\n      <th>experience_level</th>\n      <th>employment_type</th>\n      <th>job_title</th>\n      <th>salary</th>\n      <th>salary_currency</th>\n      <th>salary_in_usd</th>\n      <th>employee_residence</th>\n      <th>remote_ratio</th>\n      <th>company_location</th>\n      <th>company_size</th>\n    </tr>\n  </thead>\n  <tbody>\n    <tr>\n      <th>0</th>\n      <td>0</td>\n      <td>2020</td>\n      <td>MI</td>\n      <td>FT</td>\n      <td>Data Scientist</td>\n      <td>70000</td>\n      <td>EUR</td>\n      <td>79833</td>\n      <td>DE</td>\n      <td>0</td>\n      <td>DE</td>\n      <td>L</td>\n    </tr>\n    <tr>\n      <th>1</th>\n      <td>1</td>\n      <td>2020</td>\n      <td>SE</td>\n      <td>FT</td>\n      <td>Machine Learning Scientist</td>\n      <td>260000</td>\n      <td>USD</td>\n      <td>260000</td>\n      <td>JP</td>\n      <td>0</td>\n      <td>JP</td>\n      <td>S</td>\n    </tr>\n    <tr>\n      <th>2</th>\n      <td>2</td>\n      <td>2020</td>\n      <td>SE</td>\n      <td>FT</td>\n      <td>Big Data Engineer</td>\n      <td>85000</td>\n      <td>GBP</td>\n      <td>109024</td>\n      <td>GB</td>\n      <td>50</td>\n      <td>GB</td>\n      <td>M</td>\n    </tr>\n    <tr>\n      <th>3</th>\n      <td>3</td>\n      <td>2020</td>\n      <td>MI</td>\n      <td>FT</td>\n      <td>Product Data Analyst</td>\n      <td>20000</td>\n      <td>USD</td>\n      <td>20000</td>\n      <td>HN</td>\n      <td>0</td>\n      <td>HN</td>\n      <td>S</td>\n    </tr>\n    <tr>\n      <th>4</th>\n      <td>4</td>\n      <td>2020</td>\n      <td>SE</td>\n      <td>FT</td>\n      <td>Machine Learning Engineer</td>\n      <td>150000</td>\n      <td>USD</td>\n      <td>150000</td>\n      <td>US</td>\n      <td>50</td>\n      <td>US</td>\n      <td>L</td>\n    </tr>\n  </tbody>\n</table>\n</div>"
          },
          "metadata": {}
        }
      ]
    },
    {
      "cell_type": "code",
      "source": "table.tail()",
      "metadata": {
        "trusted": true
      },
      "execution_count": 4,
      "outputs": [
        {
          "execution_count": 4,
          "output_type": "execute_result",
          "data": {
            "text/plain": "     Unnamed: 0  work_year experience_level employment_type      job_title  \\\n602         602       2022               SE              FT  Data Engineer   \n603         603       2022               SE              FT  Data Engineer   \n604         604       2022               SE              FT   Data Analyst   \n605         605       2022               SE              FT   Data Analyst   \n606         606       2022               MI              FT   AI Scientist   \n\n     salary salary_currency  salary_in_usd employee_residence  remote_ratio  \\\n602  154000             USD         154000                 US           100   \n603  126000             USD         126000                 US           100   \n604  129000             USD         129000                 US             0   \n605  150000             USD         150000                 US           100   \n606  200000             USD         200000                 IN           100   \n\n    company_location company_size  \n602               US            M  \n603               US            M  \n604               US            M  \n605               US            M  \n606               US            L  ",
            "text/html": "<div>\n<style scoped>\n    .dataframe tbody tr th:only-of-type {\n        vertical-align: middle;\n    }\n\n    .dataframe tbody tr th {\n        vertical-align: top;\n    }\n\n    .dataframe thead th {\n        text-align: right;\n    }\n</style>\n<table border=\"1\" class=\"dataframe\">\n  <thead>\n    <tr style=\"text-align: right;\">\n      <th></th>\n      <th>Unnamed: 0</th>\n      <th>work_year</th>\n      <th>experience_level</th>\n      <th>employment_type</th>\n      <th>job_title</th>\n      <th>salary</th>\n      <th>salary_currency</th>\n      <th>salary_in_usd</th>\n      <th>employee_residence</th>\n      <th>remote_ratio</th>\n      <th>company_location</th>\n      <th>company_size</th>\n    </tr>\n  </thead>\n  <tbody>\n    <tr>\n      <th>602</th>\n      <td>602</td>\n      <td>2022</td>\n      <td>SE</td>\n      <td>FT</td>\n      <td>Data Engineer</td>\n      <td>154000</td>\n      <td>USD</td>\n      <td>154000</td>\n      <td>US</td>\n      <td>100</td>\n      <td>US</td>\n      <td>M</td>\n    </tr>\n    <tr>\n      <th>603</th>\n      <td>603</td>\n      <td>2022</td>\n      <td>SE</td>\n      <td>FT</td>\n      <td>Data Engineer</td>\n      <td>126000</td>\n      <td>USD</td>\n      <td>126000</td>\n      <td>US</td>\n      <td>100</td>\n      <td>US</td>\n      <td>M</td>\n    </tr>\n    <tr>\n      <th>604</th>\n      <td>604</td>\n      <td>2022</td>\n      <td>SE</td>\n      <td>FT</td>\n      <td>Data Analyst</td>\n      <td>129000</td>\n      <td>USD</td>\n      <td>129000</td>\n      <td>US</td>\n      <td>0</td>\n      <td>US</td>\n      <td>M</td>\n    </tr>\n    <tr>\n      <th>605</th>\n      <td>605</td>\n      <td>2022</td>\n      <td>SE</td>\n      <td>FT</td>\n      <td>Data Analyst</td>\n      <td>150000</td>\n      <td>USD</td>\n      <td>150000</td>\n      <td>US</td>\n      <td>100</td>\n      <td>US</td>\n      <td>M</td>\n    </tr>\n    <tr>\n      <th>606</th>\n      <td>606</td>\n      <td>2022</td>\n      <td>MI</td>\n      <td>FT</td>\n      <td>AI Scientist</td>\n      <td>200000</td>\n      <td>USD</td>\n      <td>200000</td>\n      <td>IN</td>\n      <td>100</td>\n      <td>US</td>\n      <td>L</td>\n    </tr>\n  </tbody>\n</table>\n</div>"
          },
          "metadata": {}
        }
      ]
    },
    {
      "cell_type": "code",
      "source": "table.describe()",
      "metadata": {
        "trusted": true
      },
      "execution_count": 5,
      "outputs": [
        {
          "execution_count": 5,
          "output_type": "execute_result",
          "data": {
            "text/plain": "       Unnamed: 0    work_year        salary  salary_in_usd  remote_ratio\ncount  607.000000   607.000000  6.070000e+02     607.000000     607.00000\nmean   303.000000  2021.405272  3.240001e+05  112297.869852      70.92257\nstd    175.370085     0.692133  1.544357e+06   70957.259411      40.70913\nmin      0.000000  2020.000000  4.000000e+03    2859.000000       0.00000\n25%    151.500000  2021.000000  7.000000e+04   62726.000000      50.00000\n50%    303.000000  2022.000000  1.150000e+05  101570.000000     100.00000\n75%    454.500000  2022.000000  1.650000e+05  150000.000000     100.00000\nmax    606.000000  2022.000000  3.040000e+07  600000.000000     100.00000",
            "text/html": "<div>\n<style scoped>\n    .dataframe tbody tr th:only-of-type {\n        vertical-align: middle;\n    }\n\n    .dataframe tbody tr th {\n        vertical-align: top;\n    }\n\n    .dataframe thead th {\n        text-align: right;\n    }\n</style>\n<table border=\"1\" class=\"dataframe\">\n  <thead>\n    <tr style=\"text-align: right;\">\n      <th></th>\n      <th>Unnamed: 0</th>\n      <th>work_year</th>\n      <th>salary</th>\n      <th>salary_in_usd</th>\n      <th>remote_ratio</th>\n    </tr>\n  </thead>\n  <tbody>\n    <tr>\n      <th>count</th>\n      <td>607.000000</td>\n      <td>607.000000</td>\n      <td>6.070000e+02</td>\n      <td>607.000000</td>\n      <td>607.00000</td>\n    </tr>\n    <tr>\n      <th>mean</th>\n      <td>303.000000</td>\n      <td>2021.405272</td>\n      <td>3.240001e+05</td>\n      <td>112297.869852</td>\n      <td>70.92257</td>\n    </tr>\n    <tr>\n      <th>std</th>\n      <td>175.370085</td>\n      <td>0.692133</td>\n      <td>1.544357e+06</td>\n      <td>70957.259411</td>\n      <td>40.70913</td>\n    </tr>\n    <tr>\n      <th>min</th>\n      <td>0.000000</td>\n      <td>2020.000000</td>\n      <td>4.000000e+03</td>\n      <td>2859.000000</td>\n      <td>0.00000</td>\n    </tr>\n    <tr>\n      <th>25%</th>\n      <td>151.500000</td>\n      <td>2021.000000</td>\n      <td>7.000000e+04</td>\n      <td>62726.000000</td>\n      <td>50.00000</td>\n    </tr>\n    <tr>\n      <th>50%</th>\n      <td>303.000000</td>\n      <td>2022.000000</td>\n      <td>1.150000e+05</td>\n      <td>101570.000000</td>\n      <td>100.00000</td>\n    </tr>\n    <tr>\n      <th>75%</th>\n      <td>454.500000</td>\n      <td>2022.000000</td>\n      <td>1.650000e+05</td>\n      <td>150000.000000</td>\n      <td>100.00000</td>\n    </tr>\n    <tr>\n      <th>max</th>\n      <td>606.000000</td>\n      <td>2022.000000</td>\n      <td>3.040000e+07</td>\n      <td>600000.000000</td>\n      <td>100.00000</td>\n    </tr>\n  </tbody>\n</table>\n</div>"
          },
          "metadata": {}
        }
      ]
    },
    {
      "cell_type": "code",
      "source": "table.info()",
      "metadata": {
        "trusted": true
      },
      "execution_count": 6,
      "outputs": [
        {
          "name": "stdout",
          "text": "<class 'pandas.core.frame.DataFrame'>\nRangeIndex: 607 entries, 0 to 606\nData columns (total 12 columns):\n #   Column              Non-Null Count  Dtype \n---  ------              --------------  ----- \n 0   Unnamed: 0          607 non-null    int64 \n 1   work_year           607 non-null    int64 \n 2   experience_level    607 non-null    object\n 3   employment_type     607 non-null    object\n 4   job_title           607 non-null    object\n 5   salary              607 non-null    int64 \n 6   salary_currency     607 non-null    object\n 7   salary_in_usd       607 non-null    int64 \n 8   employee_residence  607 non-null    object\n 9   remote_ratio        607 non-null    int64 \n 10  company_location    607 non-null    object\n 11  company_size        607 non-null    object\ndtypes: int64(5), object(7)\nmemory usage: 40.4+ KB\n",
          "output_type": "stream"
        }
      ]
    },
    {
      "cell_type": "code",
      "source": "table.columns",
      "metadata": {
        "trusted": true
      },
      "execution_count": 7,
      "outputs": [
        {
          "execution_count": 7,
          "output_type": "execute_result",
          "data": {
            "text/plain": "Index(['Unnamed: 0', 'work_year', 'experience_level', 'employment_type',\n       'job_title', 'salary', 'salary_currency', 'salary_in_usd',\n       'employee_residence', 'remote_ratio', 'company_location',\n       'company_size'],\n      dtype='object')"
          },
          "metadata": {}
        }
      ]
    },
    {
      "cell_type": "code",
      "source": "table.isnull().sum()",
      "metadata": {
        "trusted": true
      },
      "execution_count": 8,
      "outputs": [
        {
          "execution_count": 8,
          "output_type": "execute_result",
          "data": {
            "text/plain": "Unnamed: 0            0\nwork_year             0\nexperience_level      0\nemployment_type       0\njob_title             0\nsalary                0\nsalary_currency       0\nsalary_in_usd         0\nemployee_residence    0\nremote_ratio          0\ncompany_location      0\ncompany_size          0\ndtype: int64"
          },
          "metadata": {}
        }
      ]
    },
    {
      "cell_type": "code",
      "source": "table.head()",
      "metadata": {
        "trusted": true
      },
      "execution_count": 9,
      "outputs": [
        {
          "execution_count": 9,
          "output_type": "execute_result",
          "data": {
            "text/plain": "   Unnamed: 0  work_year experience_level employment_type  \\\n0           0       2020               MI              FT   \n1           1       2020               SE              FT   \n2           2       2020               SE              FT   \n3           3       2020               MI              FT   \n4           4       2020               SE              FT   \n\n                    job_title  salary salary_currency  salary_in_usd  \\\n0              Data Scientist   70000             EUR          79833   \n1  Machine Learning Scientist  260000             USD         260000   \n2           Big Data Engineer   85000             GBP         109024   \n3        Product Data Analyst   20000             USD          20000   \n4   Machine Learning Engineer  150000             USD         150000   \n\n  employee_residence  remote_ratio company_location company_size  \n0                 DE             0               DE            L  \n1                 JP             0               JP            S  \n2                 GB            50               GB            M  \n3                 HN             0               HN            S  \n4                 US            50               US            L  ",
            "text/html": "<div>\n<style scoped>\n    .dataframe tbody tr th:only-of-type {\n        vertical-align: middle;\n    }\n\n    .dataframe tbody tr th {\n        vertical-align: top;\n    }\n\n    .dataframe thead th {\n        text-align: right;\n    }\n</style>\n<table border=\"1\" class=\"dataframe\">\n  <thead>\n    <tr style=\"text-align: right;\">\n      <th></th>\n      <th>Unnamed: 0</th>\n      <th>work_year</th>\n      <th>experience_level</th>\n      <th>employment_type</th>\n      <th>job_title</th>\n      <th>salary</th>\n      <th>salary_currency</th>\n      <th>salary_in_usd</th>\n      <th>employee_residence</th>\n      <th>remote_ratio</th>\n      <th>company_location</th>\n      <th>company_size</th>\n    </tr>\n  </thead>\n  <tbody>\n    <tr>\n      <th>0</th>\n      <td>0</td>\n      <td>2020</td>\n      <td>MI</td>\n      <td>FT</td>\n      <td>Data Scientist</td>\n      <td>70000</td>\n      <td>EUR</td>\n      <td>79833</td>\n      <td>DE</td>\n      <td>0</td>\n      <td>DE</td>\n      <td>L</td>\n    </tr>\n    <tr>\n      <th>1</th>\n      <td>1</td>\n      <td>2020</td>\n      <td>SE</td>\n      <td>FT</td>\n      <td>Machine Learning Scientist</td>\n      <td>260000</td>\n      <td>USD</td>\n      <td>260000</td>\n      <td>JP</td>\n      <td>0</td>\n      <td>JP</td>\n      <td>S</td>\n    </tr>\n    <tr>\n      <th>2</th>\n      <td>2</td>\n      <td>2020</td>\n      <td>SE</td>\n      <td>FT</td>\n      <td>Big Data Engineer</td>\n      <td>85000</td>\n      <td>GBP</td>\n      <td>109024</td>\n      <td>GB</td>\n      <td>50</td>\n      <td>GB</td>\n      <td>M</td>\n    </tr>\n    <tr>\n      <th>3</th>\n      <td>3</td>\n      <td>2020</td>\n      <td>MI</td>\n      <td>FT</td>\n      <td>Product Data Analyst</td>\n      <td>20000</td>\n      <td>USD</td>\n      <td>20000</td>\n      <td>HN</td>\n      <td>0</td>\n      <td>HN</td>\n      <td>S</td>\n    </tr>\n    <tr>\n      <th>4</th>\n      <td>4</td>\n      <td>2020</td>\n      <td>SE</td>\n      <td>FT</td>\n      <td>Machine Learning Engineer</td>\n      <td>150000</td>\n      <td>USD</td>\n      <td>150000</td>\n      <td>US</td>\n      <td>50</td>\n      <td>US</td>\n      <td>L</td>\n    </tr>\n  </tbody>\n</table>\n</div>"
          },
          "metadata": {}
        }
      ]
    },
    {
      "cell_type": "code",
      "source": "import matplotlib.pyplot as plt\nimport seaborn as sns",
      "metadata": {
        "trusted": true
      },
      "execution_count": 11,
      "outputs": [
        {
          "ename": "<class 'ModuleNotFoundError'>",
          "evalue": "No module named 'seaborn'",
          "traceback": [
            "\u001b[0;31m---------------------------------------------------------------------------\u001b[0m",
            "\u001b[0;31mModuleNotFoundError\u001b[0m                       Traceback (most recent call last)",
            "Input \u001b[0;32mIn [11]\u001b[0m, in \u001b[0;36m<cell line: 2>\u001b[0;34m()\u001b[0m\n\u001b[1;32m      1\u001b[0m \u001b[38;5;28;01mimport\u001b[39;00m \u001b[38;5;21;01mmatplotlib\u001b[39;00m\u001b[38;5;21;01m.\u001b[39;00m\u001b[38;5;21;01mpyplot\u001b[39;00m \u001b[38;5;28;01mas\u001b[39;00m \u001b[38;5;21;01mplt\u001b[39;00m\n\u001b[0;32m----> 2\u001b[0m \u001b[38;5;28;01mimport\u001b[39;00m \u001b[38;5;21;01mseaborn\u001b[39;00m \u001b[38;5;28;01mas\u001b[39;00m \u001b[38;5;21;01msns\u001b[39;00m\n",
            "\u001b[0;31mModuleNotFoundError\u001b[0m: No module named 'seaborn'"
          ],
          "output_type": "error"
        }
      ]
    },
    {
      "cell_type": "code",
      "source": "ab = table.drop(columns=['Unnamed: 0', 'salary', 'salary_currency', 'employee_residence', 'remote_ratio', 'company_location']) ",
      "metadata": {
        "trusted": true
      },
      "execution_count": 167,
      "outputs": []
    },
    {
      "cell_type": "code",
      "source": "ab",
      "metadata": {
        "trusted": true
      },
      "execution_count": 168,
      "outputs": [
        {
          "execution_count": 168,
          "output_type": "execute_result",
          "data": {
            "text/plain": "     work_year  experience_level  employment_type  job_title  salary_in_usd  \\\n0         2020                 2                2         22          79833   \n1         2020                 3                2         41         260000   \n2         2020                 3                2          7         109024   \n3         2020                 2                2         47          20000   \n4         2020                 3                2         38         150000   \n..         ...               ...              ...        ...            ...   \n602       2022                 3                2         17         154000   \n603       2022                 3                2         17         126000   \n604       2022                 3                2         12         129000   \n605       2022                 3                2         12         150000   \n606       2022                 2                2          1         200000   \n\n    company_size  \n0              L  \n1              S  \n2              M  \n3              S  \n4              L  \n..           ...  \n602            M  \n603            M  \n604            M  \n605            M  \n606            L  \n\n[607 rows x 6 columns]",
            "text/html": "<div>\n<style scoped>\n    .dataframe tbody tr th:only-of-type {\n        vertical-align: middle;\n    }\n\n    .dataframe tbody tr th {\n        vertical-align: top;\n    }\n\n    .dataframe thead th {\n        text-align: right;\n    }\n</style>\n<table border=\"1\" class=\"dataframe\">\n  <thead>\n    <tr style=\"text-align: right;\">\n      <th></th>\n      <th>work_year</th>\n      <th>experience_level</th>\n      <th>employment_type</th>\n      <th>job_title</th>\n      <th>salary_in_usd</th>\n      <th>company_size</th>\n    </tr>\n  </thead>\n  <tbody>\n    <tr>\n      <th>0</th>\n      <td>2020</td>\n      <td>2</td>\n      <td>2</td>\n      <td>22</td>\n      <td>79833</td>\n      <td>L</td>\n    </tr>\n    <tr>\n      <th>1</th>\n      <td>2020</td>\n      <td>3</td>\n      <td>2</td>\n      <td>41</td>\n      <td>260000</td>\n      <td>S</td>\n    </tr>\n    <tr>\n      <th>2</th>\n      <td>2020</td>\n      <td>3</td>\n      <td>2</td>\n      <td>7</td>\n      <td>109024</td>\n      <td>M</td>\n    </tr>\n    <tr>\n      <th>3</th>\n      <td>2020</td>\n      <td>2</td>\n      <td>2</td>\n      <td>47</td>\n      <td>20000</td>\n      <td>S</td>\n    </tr>\n    <tr>\n      <th>4</th>\n      <td>2020</td>\n      <td>3</td>\n      <td>2</td>\n      <td>38</td>\n      <td>150000</td>\n      <td>L</td>\n    </tr>\n    <tr>\n      <th>...</th>\n      <td>...</td>\n      <td>...</td>\n      <td>...</td>\n      <td>...</td>\n      <td>...</td>\n      <td>...</td>\n    </tr>\n    <tr>\n      <th>602</th>\n      <td>2022</td>\n      <td>3</td>\n      <td>2</td>\n      <td>17</td>\n      <td>154000</td>\n      <td>M</td>\n    </tr>\n    <tr>\n      <th>603</th>\n      <td>2022</td>\n      <td>3</td>\n      <td>2</td>\n      <td>17</td>\n      <td>126000</td>\n      <td>M</td>\n    </tr>\n    <tr>\n      <th>604</th>\n      <td>2022</td>\n      <td>3</td>\n      <td>2</td>\n      <td>12</td>\n      <td>129000</td>\n      <td>M</td>\n    </tr>\n    <tr>\n      <th>605</th>\n      <td>2022</td>\n      <td>3</td>\n      <td>2</td>\n      <td>12</td>\n      <td>150000</td>\n      <td>M</td>\n    </tr>\n    <tr>\n      <th>606</th>\n      <td>2022</td>\n      <td>2</td>\n      <td>2</td>\n      <td>1</td>\n      <td>200000</td>\n      <td>L</td>\n    </tr>\n  </tbody>\n</table>\n<p>607 rows × 6 columns</p>\n</div>"
          },
          "metadata": {}
        }
      ]
    },
    {
      "cell_type": "code",
      "source": "ab['result'] = ab['salary_in_usd'].apply(lambda x:1 if x>100000 else 0)",
      "metadata": {
        "trusted": true
      },
      "execution_count": 169,
      "outputs": []
    },
    {
      "cell_type": "code",
      "source": "ab",
      "metadata": {
        "trusted": true
      },
      "execution_count": 170,
      "outputs": [
        {
          "execution_count": 170,
          "output_type": "execute_result",
          "data": {
            "text/plain": "     work_year  experience_level  employment_type  job_title  salary_in_usd  \\\n0         2020                 2                2         22          79833   \n1         2020                 3                2         41         260000   \n2         2020                 3                2          7         109024   \n3         2020                 2                2         47          20000   \n4         2020                 3                2         38         150000   \n..         ...               ...              ...        ...            ...   \n602       2022                 3                2         17         154000   \n603       2022                 3                2         17         126000   \n604       2022                 3                2         12         129000   \n605       2022                 3                2         12         150000   \n606       2022                 2                2          1         200000   \n\n    company_size  result  \n0              L       0  \n1              S       1  \n2              M       1  \n3              S       0  \n4              L       1  \n..           ...     ...  \n602            M       1  \n603            M       1  \n604            M       1  \n605            M       1  \n606            L       1  \n\n[607 rows x 7 columns]",
            "text/html": "<div>\n<style scoped>\n    .dataframe tbody tr th:only-of-type {\n        vertical-align: middle;\n    }\n\n    .dataframe tbody tr th {\n        vertical-align: top;\n    }\n\n    .dataframe thead th {\n        text-align: right;\n    }\n</style>\n<table border=\"1\" class=\"dataframe\">\n  <thead>\n    <tr style=\"text-align: right;\">\n      <th></th>\n      <th>work_year</th>\n      <th>experience_level</th>\n      <th>employment_type</th>\n      <th>job_title</th>\n      <th>salary_in_usd</th>\n      <th>company_size</th>\n      <th>result</th>\n    </tr>\n  </thead>\n  <tbody>\n    <tr>\n      <th>0</th>\n      <td>2020</td>\n      <td>2</td>\n      <td>2</td>\n      <td>22</td>\n      <td>79833</td>\n      <td>L</td>\n      <td>0</td>\n    </tr>\n    <tr>\n      <th>1</th>\n      <td>2020</td>\n      <td>3</td>\n      <td>2</td>\n      <td>41</td>\n      <td>260000</td>\n      <td>S</td>\n      <td>1</td>\n    </tr>\n    <tr>\n      <th>2</th>\n      <td>2020</td>\n      <td>3</td>\n      <td>2</td>\n      <td>7</td>\n      <td>109024</td>\n      <td>M</td>\n      <td>1</td>\n    </tr>\n    <tr>\n      <th>3</th>\n      <td>2020</td>\n      <td>2</td>\n      <td>2</td>\n      <td>47</td>\n      <td>20000</td>\n      <td>S</td>\n      <td>0</td>\n    </tr>\n    <tr>\n      <th>4</th>\n      <td>2020</td>\n      <td>3</td>\n      <td>2</td>\n      <td>38</td>\n      <td>150000</td>\n      <td>L</td>\n      <td>1</td>\n    </tr>\n    <tr>\n      <th>...</th>\n      <td>...</td>\n      <td>...</td>\n      <td>...</td>\n      <td>...</td>\n      <td>...</td>\n      <td>...</td>\n      <td>...</td>\n    </tr>\n    <tr>\n      <th>602</th>\n      <td>2022</td>\n      <td>3</td>\n      <td>2</td>\n      <td>17</td>\n      <td>154000</td>\n      <td>M</td>\n      <td>1</td>\n    </tr>\n    <tr>\n      <th>603</th>\n      <td>2022</td>\n      <td>3</td>\n      <td>2</td>\n      <td>17</td>\n      <td>126000</td>\n      <td>M</td>\n      <td>1</td>\n    </tr>\n    <tr>\n      <th>604</th>\n      <td>2022</td>\n      <td>3</td>\n      <td>2</td>\n      <td>12</td>\n      <td>129000</td>\n      <td>M</td>\n      <td>1</td>\n    </tr>\n    <tr>\n      <th>605</th>\n      <td>2022</td>\n      <td>3</td>\n      <td>2</td>\n      <td>12</td>\n      <td>150000</td>\n      <td>M</td>\n      <td>1</td>\n    </tr>\n    <tr>\n      <th>606</th>\n      <td>2022</td>\n      <td>2</td>\n      <td>2</td>\n      <td>1</td>\n      <td>200000</td>\n      <td>L</td>\n      <td>1</td>\n    </tr>\n  </tbody>\n</table>\n<p>607 rows × 7 columns</p>\n</div>"
          },
          "metadata": {}
        }
      ]
    },
    {
      "cell_type": "code",
      "source": "from sklearn.preprocessing import LabelEncoder\nle = LabelEncoder()\nab['experience_level'] = le.fit_transform(ab['experience_level'])\nab['employment_type'] = le.fit_transform(ab['employment_type'])\nab['job_title'] = le.fit_transform(ab['job_title'])\nab['company_size'] = le.fit_transform(ab['company_size'])",
      "metadata": {
        "trusted": true
      },
      "execution_count": 171,
      "outputs": []
    },
    {
      "cell_type": "code",
      "source": "a = ab[['experience_level', 'employment_type', 'job_title']].values",
      "metadata": {
        "trusted": true
      },
      "execution_count": 202,
      "outputs": []
    },
    {
      "cell_type": "code",
      "source": "a",
      "metadata": {
        "trusted": true
      },
      "execution_count": 203,
      "outputs": [
        {
          "execution_count": 203,
          "output_type": "execute_result",
          "data": {
            "text/plain": "array([[ 2,  2, 22],\n       [ 3,  2, 41],\n       [ 3,  2,  7],\n       ...,\n       [ 3,  2, 12],\n       [ 3,  2, 12],\n       [ 2,  2,  1]])"
          },
          "metadata": {}
        }
      ]
    },
    {
      "cell_type": "code",
      "source": "from sklearn.model_selection import train_test_split\nx_train, x_test, y_train, y_test = train_test_split(a, ab.result.values, test_size=0.25, random_state=0)",
      "metadata": {
        "trusted": true
      },
      "execution_count": 204,
      "outputs": []
    },
    {
      "cell_type": "code",
      "source": "x_train",
      "metadata": {
        "trusted": true
      },
      "execution_count": 205,
      "outputs": [
        {
          "execution_count": 205,
          "output_type": "execute_result",
          "data": {
            "text/plain": "array([[ 0,  2,  7],\n       [ 2,  2, 12],\n       [ 2,  2, 22],\n       ...,\n       [ 3,  2, 16],\n       [ 2,  2,  7],\n       [ 3,  2, 22]])"
          },
          "metadata": {}
        }
      ]
    },
    {
      "cell_type": "code",
      "source": "x_test",
      "metadata": {
        "trusted": true
      },
      "execution_count": 206,
      "outputs": [
        {
          "execution_count": 206,
          "output_type": "execute_result",
          "data": {
            "text/plain": "array([[ 3,  2, 22],\n       [ 0,  2,  1],\n       [ 2,  2, 12],\n       [ 3,  2, 17],\n       [ 3,  2, 46],\n       [ 0,  3, 22],\n       [ 3,  2, 17],\n       [ 0,  2, 17],\n       [ 3,  2, 38],\n       [ 3,  2, 17],\n       [ 3,  2, 12],\n       [ 3,  2, 29],\n       [ 2,  2, 22],\n       [ 3,  2, 22],\n       [ 3,  2, 20],\n       [ 2,  2, 17],\n       [ 3,  2, 12],\n       [ 3,  2, 17],\n       [ 0,  2, 17],\n       [ 3,  2, 17],\n       [ 2,  2, 22],\n       [ 3,  2, 12],\n       [ 2,  2, 17],\n       [ 3,  2, 38],\n       [ 1,  2, 19],\n       [ 2,  2, 38],\n       [ 2,  2, 22],\n       [ 0,  2, 12],\n       [ 2,  2, 38],\n       [ 2,  2, 22],\n       [ 3,  2, 17],\n       [ 3,  2, 37],\n       [ 0,  2, 38],\n       [ 2,  2, 22],\n       [ 2,  2, 12],\n       [ 3,  2, 12],\n       [ 3,  2, 12],\n       [ 3,  2, 12],\n       [ 2,  2, 17],\n       [ 3,  2, 17],\n       [ 2,  2, 17],\n       [ 3,  2, 48],\n       [ 2,  2, 12],\n       [ 3,  2, 12],\n       [ 3,  2, 12],\n       [ 1,  2, 17],\n       [ 2,  2, 12],\n       [ 3,  2, 16],\n       [ 3,  2, 41],\n       [ 2,  2, 12],\n       [ 3,  2, 12],\n       [ 2,  2, 38],\n       [ 3,  2, 15],\n       [ 2,  2, 22],\n       [ 3,  2, 14],\n       [ 3,  2, 21],\n       [ 2,  2, 48],\n       [ 3,  2, 17],\n       [ 2,  2,  8],\n       [ 3,  2, 21],\n       [ 0,  2, 12],\n       [ 0,  2,  8],\n       [ 3,  2, 22],\n       [ 3,  2,  7],\n       [ 3,  2, 12],\n       [ 2,  2, 47],\n       [ 2,  2, 22],\n       [ 2,  2, 17],\n       [ 0,  2, 10],\n       [ 0,  2, 38],\n       [ 3,  2, 38],\n       [ 3,  2, 22],\n       [ 0,  2, 12],\n       [ 0,  2, 22],\n       [ 0,  2, 38],\n       [ 1,  0, 46],\n       [ 2,  3, 17],\n       [ 2,  2, 12],\n       [ 3,  2, 17],\n       [ 3,  2, 38],\n       [ 3,  2, 12],\n       [ 2,  2, 38],\n       [ 3,  2, 15],\n       [ 3,  2, 12],\n       [ 2,  2, 16],\n       [ 0,  0,  4],\n       [ 3,  2, 17],\n       [ 0,  2, 22],\n       [ 3,  2, 16],\n       [ 3,  2, 12],\n       [ 0,  2, 12],\n       [ 0,  2,  7],\n       [ 3,  2, 22],\n       [ 2,  0, 36],\n       [ 3,  2, 21],\n       [ 0,  2, 22],\n       [ 3,  2, 18],\n       [ 3,  2, 21],\n       [ 2,  2, 32],\n       [ 2,  2,  4],\n       [ 3,  2, 17],\n       [ 2,  2, 48],\n       [ 0,  2, 17],\n       [ 3,  2, 17],\n       [ 0,  2, 22],\n       [ 2,  2, 12],\n       [ 2,  2, 38],\n       [ 0,  3, 36],\n       [ 3,  2, 34],\n       [ 0,  2,  5],\n       [ 2,  2, 22],\n       [ 3,  2, 12],\n       [ 3,  2, 22],\n       [ 0,  2, 22],\n       [ 3,  2, 44],\n       [ 3,  2, 17],\n       [ 3,  2, 22],\n       [ 2,  2, 22],\n       [ 2,  2, 22],\n       [ 3,  2, 38],\n       [ 3,  2, 22],\n       [ 3,  2, 23],\n       [ 2,  2, 29],\n       [ 3,  2, 42],\n       [ 3,  2, 12],\n       [ 3,  2, 22],\n       [ 2,  2, 22],\n       [ 3,  2, 38],\n       [ 0,  2, 12],\n       [ 2,  2, 17],\n       [ 2,  2, 22],\n       [ 1,  2, 17],\n       [ 2,  2, 41],\n       [ 3,  2, 17],\n       [ 3,  2, 17],\n       [ 2,  2, 17],\n       [ 2,  2, 22],\n       [ 3,  2, 12],\n       [ 2,  2,  4],\n       [ 3,  2,  2],\n       [ 3,  2, 12],\n       [ 2,  2, 17],\n       [ 3,  2, 22],\n       [ 2,  2, 17],\n       [ 3,  2, 12],\n       [ 2,  2, 17],\n       [ 0,  3,  1],\n       [ 1,  2, 45],\n       [ 2,  2, 22],\n       [ 3,  2, 38],\n       [ 3,  2, 12],\n       [ 2,  2, 17]])"
          },
          "metadata": {}
        }
      ]
    },
    {
      "cell_type": "code",
      "source": "y_train",
      "metadata": {
        "trusted": true
      },
      "execution_count": 207,
      "outputs": [
        {
          "execution_count": 207,
          "output_type": "execute_result",
          "data": {
            "text/plain": "array([0, 0, 0, 0, 1, 1, 1, 0, 1, 0, 0, 0, 1, 0, 1, 1, 1, 1, 0, 1, 0, 0,\n       1, 0, 0, 1, 1, 0, 1, 1, 1, 0, 1, 1, 1, 0, 1, 0, 1, 1, 0, 0, 1, 1,\n       0, 0, 0, 0, 0, 0, 0, 1, 0, 0, 1, 1, 0, 1, 1, 0, 1, 0, 0, 1, 1, 0,\n       1, 1, 1, 0, 1, 1, 0, 0, 1, 0, 1, 1, 1, 1, 1, 0, 1, 0, 0, 0, 1, 1,\n       1, 0, 0, 1, 1, 0, 1, 1, 0, 0, 0, 0, 1, 0, 0, 0, 1, 0, 1, 0, 1, 1,\n       0, 0, 0, 0, 0, 1, 0, 1, 1, 0, 0, 0, 1, 1, 1, 1, 1, 1, 0, 1, 0, 1,\n       1, 0, 1, 1, 0, 1, 0, 0, 1, 1, 0, 1, 1, 0, 0, 0, 0, 1, 0, 0, 1, 0,\n       1, 0, 0, 1, 1, 1, 1, 0, 1, 1, 1, 1, 0, 0, 0, 1, 1, 1, 1, 1, 0, 1,\n       1, 1, 1, 0, 1, 1, 0, 1, 0, 0, 0, 1, 1, 0, 1, 0, 1, 0, 1, 0, 1, 1,\n       1, 0, 0, 1, 0, 1, 0, 0, 1, 1, 1, 0, 1, 0, 0, 0, 1, 0, 1, 0, 0, 0,\n       1, 0, 1, 0, 0, 1, 0, 1, 1, 1, 1, 1, 0, 1, 0, 0, 1, 1, 0, 1, 0, 1,\n       1, 0, 1, 0, 1, 0, 1, 1, 1, 1, 1, 1, 0, 0, 0, 0, 0, 1, 0, 0, 1, 0,\n       0, 0, 0, 1, 1, 1, 0, 0, 1, 1, 1, 1, 1, 1, 1, 0, 1, 1, 0, 0, 1, 1,\n       0, 1, 1, 1, 0, 0, 0, 0, 0, 1, 1, 0, 1, 1, 1, 0, 1, 1, 1, 0, 0, 0,\n       0, 0, 1, 0, 1, 0, 1, 0, 0, 0, 0, 0, 0, 0, 0, 1, 0, 0, 0, 1, 1, 0,\n       1, 1, 0, 0, 0, 0, 0, 0, 0, 1, 1, 1, 0, 0, 0, 0, 0, 1, 1, 1, 1, 0,\n       1, 1, 0, 1, 0, 1, 0, 1, 0, 0, 0, 0, 1, 0, 1, 0, 1, 1, 0, 0, 1, 1,\n       1, 0, 1, 0, 0, 1, 1, 0, 0, 1, 1, 1, 1, 1, 0, 0, 0, 1, 0, 0, 0, 0,\n       0, 0, 1, 1, 0, 1, 1, 0, 0, 0, 1, 1, 1, 1, 1, 1, 0, 0, 1, 1, 0, 0,\n       1, 0, 0, 0, 0, 0, 0, 1, 1, 0, 0, 1, 1, 0, 1, 0, 0, 0, 1, 0, 1, 0,\n       1, 0, 1, 1, 1, 0, 0, 1, 0, 1, 0, 1, 0, 0, 1], dtype=int64)"
          },
          "metadata": {}
        }
      ]
    },
    {
      "cell_type": "code",
      "source": "y_test",
      "metadata": {
        "trusted": true
      },
      "execution_count": 208,
      "outputs": [
        {
          "execution_count": 208,
          "output_type": "execute_result",
          "data": {
            "text/plain": "array([1, 0, 0, 1, 1, 0, 1, 0, 1, 1, 1, 1, 0, 1, 0, 0, 1, 1, 1, 1, 1, 1,\n       1, 1, 0, 0, 0, 0, 0, 0, 1, 0, 0, 0, 0, 0, 1, 0, 1, 1, 0, 0, 0, 1,\n       1, 1, 0, 1, 1, 0, 1, 1, 1, 0, 1, 1, 0, 1, 1, 1, 0, 0, 1, 1, 1, 0,\n       1, 0, 1, 0, 1, 1, 0, 0, 1, 1, 0, 0, 1, 0, 1, 0, 1, 0, 1, 0, 1, 0,\n       1, 0, 0, 0, 1, 1, 1, 0, 1, 1, 0, 1, 1, 0, 0, 0, 0, 0, 1, 0, 1, 0,\n       0, 1, 0, 0, 1, 1, 1, 1, 0, 1, 0, 1, 0, 0, 1, 1, 0, 0, 0, 0, 1, 1,\n       1, 1, 1, 0, 0, 1, 0, 1, 1, 0, 1, 0, 0, 0, 0, 1, 0, 1, 0, 0],\n      dtype=int64)"
          },
          "metadata": {}
        }
      ]
    },
    {
      "cell_type": "code",
      "source": "from sklearn.tree import DecisionTreeClassifier\ndtc = DecisionTreeClassifier()\npre = dtc.fit(x_train, y_train)",
      "metadata": {
        "trusted": true
      },
      "execution_count": 209,
      "outputs": []
    },
    {
      "cell_type": "code",
      "source": "y_pred = dtc.predict(x_test)\ny_pred",
      "metadata": {
        "trusted": true
      },
      "execution_count": 210,
      "outputs": [
        {
          "execution_count": 210,
          "output_type": "execute_result",
          "data": {
            "text/plain": "array([1, 0, 0, 1, 1, 0, 1, 0, 1, 1, 1, 1, 0, 1, 1, 0, 1, 1, 0, 1, 0, 1,\n       0, 1, 0, 0, 0, 0, 0, 0, 1, 1, 0, 0, 0, 1, 1, 1, 0, 1, 0, 0, 0, 1,\n       1, 1, 0, 1, 1, 0, 1, 0, 1, 0, 0, 1, 0, 1, 0, 1, 0, 0, 1, 1, 1, 0,\n       0, 0, 0, 0, 1, 1, 0, 0, 0, 1, 0, 0, 1, 1, 1, 0, 1, 1, 1, 1, 1, 0,\n       1, 1, 0, 0, 1, 0, 1, 0, 1, 1, 0, 0, 1, 0, 0, 1, 0, 0, 0, 0, 0, 0,\n       0, 1, 1, 0, 1, 1, 1, 0, 0, 1, 1, 1, 1, 1, 1, 1, 0, 1, 0, 0, 0, 1,\n       1, 1, 1, 0, 0, 1, 0, 1, 1, 0, 1, 0, 1, 0, 0, 1, 0, 1, 1, 0],\n      dtype=int64)"
          },
          "metadata": {}
        }
      ]
    },
    {
      "cell_type": "code",
      "source": "from sklearn import metrics\ncm = metrics.confusion_matrix(y_test, y_pred)\ncm",
      "metadata": {
        "trusted": true
      },
      "execution_count": 211,
      "outputs": [
        {
          "execution_count": 211,
          "output_type": "execute_result",
          "data": {
            "text/plain": "array([[58, 16],\n       [16, 62]], dtype=int64)"
          },
          "metadata": {}
        }
      ]
    },
    {
      "cell_type": "code",
      "source": "acc = metrics.accuracy_score(y_test, y_pred)\nacc",
      "metadata": {
        "trusted": true
      },
      "execution_count": 212,
      "outputs": [
        {
          "execution_count": 212,
          "output_type": "execute_result",
          "data": {
            "text/plain": "0.7894736842105263"
          },
          "metadata": {}
        }
      ]
    },
    {
      "cell_type": "code",
      "source": "pre = metrics.precision_score(y_test, y_pred)\npre",
      "metadata": {
        "trusted": true
      },
      "execution_count": 213,
      "outputs": [
        {
          "execution_count": 213,
          "output_type": "execute_result",
          "data": {
            "text/plain": "0.7948717948717948"
          },
          "metadata": {}
        }
      ]
    },
    {
      "cell_type": "code",
      "source": "re = metrics.recall_score(y_test, y_pred)\nre",
      "metadata": {
        "trusted": true
      },
      "execution_count": 214,
      "outputs": [
        {
          "execution_count": 214,
          "output_type": "execute_result",
          "data": {
            "text/plain": "0.7948717948717948"
          },
          "metadata": {}
        }
      ]
    },
    {
      "cell_type": "code",
      "source": "f1 = metrics.f1_score(y_test, y_pred)\nf1",
      "metadata": {
        "trusted": true
      },
      "execution_count": 215,
      "outputs": [
        {
          "execution_count": 215,
          "output_type": "execute_result",
          "data": {
            "text/plain": "0.7948717948717948"
          },
          "metadata": {}
        }
      ]
    },
    {
      "cell_type": "code",
      "source": "cr = metrics.classification_report(y_test, y_pred)\ncr",
      "metadata": {
        "trusted": true
      },
      "execution_count": 216,
      "outputs": [
        {
          "execution_count": 216,
          "output_type": "execute_result",
          "data": {
            "text/plain": "'              precision    recall  f1-score   support\\n\\n           0       0.78      0.78      0.78        74\\n           1       0.79      0.79      0.79        78\\n\\n    accuracy                           0.79       152\\n   macro avg       0.79      0.79      0.79       152\\nweighted avg       0.79      0.79      0.79       152\\n'"
          },
          "metadata": {}
        }
      ]
    },
    {
      "cell_type": "code",
      "source": "",
      "metadata": {},
      "execution_count": null,
      "outputs": []
    }
  ]
}